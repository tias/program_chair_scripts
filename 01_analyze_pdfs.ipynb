{
 "cells": [
  {
   "cell_type": "markdown",
   "id": "isolated-ontario",
   "metadata": {},
   "source": [
    "# Analyzing a zip of PDFs for submission instruction compatibility\n",
    "\n",
    "Currenlty checks:\n",
    "\n",
    "* Page count limit\n",
    "* Anonymity: whether there is an email on the first page\n",
    "* Margin width and hight (compares it to the first PDF, make sure that one is correct : )\n",
    "\n",
    "We highly recommend that you analyze all submissions **24 hours before the submission deadline!**\n",
    "\n",
    "At ECMLPKDD 2022 we had around 40/1200 of desk rejects, most of which were detected by this code. And almost all of them asked to resubmit a properly formated/anonymized version, which we unfortunately couldn't as reviewing had started...\n"
   ]
  },
  {
   "cell_type": "code",
   "execution_count": 1,
   "id": "separated-liechtenstein",
   "metadata": {},
   "outputs": [],
   "source": [
    "import PyPDF2 # pip install PyPDF2\n",
    "import zipfile\n",
    "import tempfile\n",
    "import pandas as pd\n",
    "import os\n",
    "import re\n",
    "import subprocess # for calling 'gs', you need to have 'ghostscript' installed to check for margins!\n",
    "from tqdm import tqdm\n",
    "\n",
    "page_limit = 16\n",
    "zname = \"data/Submissions Fake.zip\""
   ]
  },
  {
   "cell_type": "code",
   "execution_count": 2,
   "id": "bridal-parallel",
   "metadata": {
    "scrolled": true
   },
   "outputs": [
    {
     "name": "stderr",
     "output_type": "stream",
     "text": [
      "100%|██████████| 4/4 [00:00<00:00, 10.63it/s]\n"
     ]
    },
    {
     "data": {
      "text/html": [
       "<div>\n",
       "<style scoped>\n",
       "    .dataframe tbody tr th:only-of-type {\n",
       "        vertical-align: middle;\n",
       "    }\n",
       "\n",
       "    .dataframe tbody tr th {\n",
       "        vertical-align: top;\n",
       "    }\n",
       "\n",
       "    .dataframe thead th {\n",
       "        text-align: right;\n",
       "    }\n",
       "</style>\n",
       "<table border=\"1\" class=\"dataframe\">\n",
       "  <thead>\n",
       "    <tr style=\"text-align: right;\">\n",
       "      <th></th>\n",
       "      <th>reason</th>\n",
       "      <th>explanation</th>\n",
       "      <th>filename</th>\n",
       "    </tr>\n",
       "  </thead>\n",
       "  <tbody>\n",
       "    <tr>\n",
       "      <th>2</th>\n",
       "      <td>different margins</td>\n",
       "      <td>Different margins detected: [89, 46, 514, 693]...</td>\n",
       "      <td>5/Submission/lncs_a4wide.pdf</td>\n",
       "    </tr>\n",
       "    <tr>\n",
       "      <th>0</th>\n",
       "      <td>non-blind</td>\n",
       "      <td>potentially non-anonymous: ecmlpkdd2022@framal...</td>\n",
       "      <td>2/Submission/lncs_authors.pdf</td>\n",
       "    </tr>\n",
       "    <tr>\n",
       "      <th>1</th>\n",
       "      <td>page limit</td>\n",
       "      <td>potentially over page limit: 17 pages</td>\n",
       "      <td>3/Submission/lncs_overlength.pdf</td>\n",
       "    </tr>\n",
       "  </tbody>\n",
       "</table>\n",
       "</div>"
      ],
      "text/plain": [
       "              reason                                        explanation  \\\n",
       "2  different margins  Different margins detected: [89, 46, 514, 693]...   \n",
       "0          non-blind  potentially non-anonymous: ecmlpkdd2022@framal...   \n",
       "1         page limit              potentially over page limit: 17 pages   \n",
       "\n",
       "                           filename  \n",
       "2      5/Submission/lncs_a4wide.pdf  \n",
       "0     2/Submission/lncs_authors.pdf  \n",
       "1  3/Submission/lncs_overlength.pdf  "
      ]
     },
     "execution_count": 2,
     "metadata": {},
     "output_type": "execute_result"
    }
   ],
   "source": [
    "# emails people use as anonymous placeholders\n",
    "ignorelist = [\"lncs@springer.com\", \"lncs@springer.comhttp\", \"blinded@email.com\", \"author@mail.com\", \"XXX@XXX.com\", \"email@domain.com\", \"mail@mail.mail\", \"some@email.com\", \"firstname.lastname@XXXX.com\", \"anon.email@domain.com\", \"xxx@xxx.xxx\"]\n",
    "\n",
    "# https://stackabuse.com/python-validate-email-address-with-regular-expressions-regex/\n",
    "regex_email = re.compile(r'([A-Za-z0-9]+[.-_])*[A-Za-z0-9]+@[A-Za-z0-9-]+(\\.[A-Z|a-z]{2,})+')\n",
    "\n",
    "margin_slack = 4 # how far can the margins diverge from the first PDF?\n",
    "                 # UNTESTED footnotes may mess things up...\n",
    "\n",
    "has_gs = True\n",
    "bbox_first = None\n",
    "if subprocess.run('which gs', shell=True).returncode != 0:\n",
    "    # turns out extracting the bbox from a PDF is non-trivial\n",
    "    # and the best to do is to rerender it with gs, as per:\n",
    "    # https://unix.stackexchange.com/questions/668990/extract-document-information-from-pdf-file-like-width-of-margins\n",
    "    print(\"Warning, Ghostscript (command 'gs') not installed, can not check margins\")\n",
    "    has_gs = False\n",
    "\n",
    "data = [] # (reason, explanation, fname)\n",
    "with tempfile.TemporaryDirectory() as tmpdirname:\n",
    "    #print('created temporary directory', tmpdirname)\n",
    "\n",
    "    with zipfile.ZipFile(zname, 'r') as archive:\n",
    "        for fname in tqdm(archive.namelist()):\n",
    "            #print(f\"Extracting '{fname}'\")\n",
    "            archive.extract(fname, tmpdirname)\n",
    "            tmpname = os.path.join(tmpdirname, fname)\n",
    "            \n",
    "            with open(tmpname, 'rb') as pdfObj:\n",
    "                x = PyPDF2.PdfFileReader(pdfObj)\n",
    "            \n",
    "                # check page count\n",
    "                if x.getNumPages() > page_limit:\n",
    "                    data.append( (\"page limit\", f\"potentially over page limit: {x.getNumPages()} pages\", fname) )\n",
    "            \n",
    "                # search for email in first page\n",
    "                p = x.getPage(0)\n",
    "                txt = p.extractText()\n",
    "                match = regex_email.search(txt)\n",
    "                if match is not None:\n",
    "                    email = match.group(0)\n",
    "                    if not email in ignorelist and not 'anonymous' in email:\n",
    "                        data.append( (\"non-blind\", f\"potentially non-anonymous: {email}\", fname) )\n",
    "            \n",
    "            # check margins\n",
    "            st = subprocess.run(['gs', '-sDEVICE=bbox', '-q', '-dFirstPage=1', '-dLastPage=1', tmpname], capture_output=True)\n",
    "            bbox = str(st.stderr).split('\\\\n')[0].split(' ')[1:5]\n",
    "            bbox = list(map(int, bbox))\n",
    "            if bbox_first is None:\n",
    "                bbox_first = bbox\n",
    "            else:\n",
    "                if any([abs(fst - ths) > margin_slack for fst,ths in zip(bbox_first, bbox)]):\n",
    "                    # one of the margins over the allowed slack, probably different template\n",
    "                    data.append( (\"different margins\", f\"Different margins detected: {bbox} versus first paper had {bbox_first}\", fname) )\n",
    "            \n",
    "            os.remove(tmpname)\n",
    "\n",
    "df = pd.DataFrame(data, columns=[\"reason\", \"explanation\", \"filename\"])\n",
    "df.sort_values(['reason', 'explanation'])"
   ]
  }
 ],
 "metadata": {
  "kernelspec": {
   "display_name": "Python 3",
   "language": "python",
   "name": "python3"
  },
  "language_info": {
   "codemirror_mode": {
    "name": "ipython",
    "version": 3
   },
   "file_extension": ".py",
   "mimetype": "text/x-python",
   "name": "python",
   "nbconvert_exporter": "python",
   "pygments_lexer": "ipython3",
   "version": "3.9.2"
  }
 },
 "nbformat": 4,
 "nbformat_minor": 5
}
