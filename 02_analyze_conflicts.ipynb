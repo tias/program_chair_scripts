{
 "cells": [
  {
   "cell_type": "markdown",
   "id": "olive-england",
   "metadata": {},
   "source": [
    "# Check for outliers in declared conflicts\n",
    "\n",
    "This script can help you understand in how far your users are using domain/author conflicts.\n",
    "\n",
    "## Domain conflicts\n",
    "\n",
    "These are the easiest way to avoid conflicts of interests with colleagues, including 'further away' colleagues.\n",
    "\n",
    "1) This script will visualise the number of domain conflicts per user\n",
    "\n",
    "    -> many with '0' domain conflicts? Better send reminders...\n",
    "\n",
    "2) You can inspect those with many conflicts, e.g. >= 10, to verify nothing suspicious is going on here\n",
    "\n",
    "## Conflicts per paper\n",
    "\n",
    "These are all cases for which a user declared a conflict with a paper (we count it for both PC and AC).\n",
    "\n",
    "1) The script will visualise the number of conflicts per paper (excluding those with 0 conflicts)\n",
    "\n",
    "    -> this just gives you a feel of what number of conflicts per paper is 'normal'\n",
    "   \n",
    "2) You can inspect those with many conflicts, e.g. >= 50, to verify nothing suspicious is going on here"
   ]
  },
  {
   "cell_type": "code",
   "execution_count": 1,
   "id": "scheduled-amino",
   "metadata": {},
   "outputs": [],
   "source": [
    "import pandas as pd\n",
    "# read all data we will use\n",
    "\n",
    "# Users, # CMT: Users -> Conference User : Actions -> Export\n",
    "df_users = pd.read_csv(\"data/Users.tsv\", delimiter='\\t')\n",
    "# Papers, # CMT: Submissions :: Actions -> Export to Excel -> Submissions, then in Excel save as Papers.csv\n",
    "df_papers = pd.read_csv(\"data/Papers.csv\", delimiter=',', skiprows=2, index_col='Paper ID')\n",
    "# ReviewerConflicts, # CMT: Submissions :: Actions -> Export to Tab Delimited -> Reviewer Conflicts\n",
    "df_pc_confl = pd.read_csv(\"data/ReviewerConflicts.txt\", delimiter='\\t')\n",
    "# MetaReviewerConflicts, # CMT: Submissions :: Actions -> Export to Tab Delimited -> MetaReviewer Conflicts\n",
    "#df_ac_confl = pd.read_csv(\"data/MetaReviewerConflicts.txt\", delimiter='\\t')"
   ]
  },
  {
   "cell_type": "markdown",
   "id": "applicable-contact",
   "metadata": {},
   "source": [
    "### Check number of conflict domains of users (all of authors/pc/ac)"
   ]
  },
  {
   "cell_type": "code",
   "execution_count": 2,
   "id": "adverse-authority",
   "metadata": {},
   "outputs": [
    {
     "data": {
      "text/plain": [
       "<AxesSubplot:title={'center':'Users with that many nr of conflict domains'}>"
      ]
     },
     "execution_count": 2,
     "metadata": {},
     "output_type": "execute_result"
    },
    {
     "data": {
      "image/png": "[encoded data removed]",
      "text/plain": [
       "<Figure size 432x288 with 1 Axes>"
      ]
     },
     "metadata": {
      "needs_background": "light"
     },
     "output_type": "display_data"
    }
   ],
   "source": [
    "df_users['nr_dom_confl'] = df_users['Domain Conflicts'].str.count(';') + 1\n",
    "df_users['nr_dom_confl'] = df_users['nr_dom_confl'].fillna(0).astype(int)\n",
    "df_users['nr_dom_confl'].value_counts().sort_index().plot.bar(title=\"Users with that many nr of conflict domains\")"
   ]
  },
  {
   "cell_type": "code",
   "execution_count": 3,
   "id": "understood-patio",
   "metadata": {},
   "outputs": [
    {
     "data": {
      "text/html": [
       "<div>\n",
       "<style scoped>\n",
       "    .dataframe tbody tr th:only-of-type {\n",
       "        vertical-align: middle;\n",
       "    }\n",
       "\n",
       "    .dataframe tbody tr th {\n",
       "        vertical-align: top;\n",
       "    }\n",
       "\n",
       "    .dataframe thead th {\n",
       "        text-align: right;\n",
       "    }\n",
       "</style>\n",
       "<table border=\"1\" class=\"dataframe\">\n",
       "  <thead>\n",
       "    <tr style=\"text-align: right;\">\n",
       "      <th></th>\n",
       "      <th># First Name</th>\n",
       "      <th>Middle Initial (optional)</th>\n",
       "      <th>Last Name</th>\n",
       "      <th>Email</th>\n",
       "      <th>Organization</th>\n",
       "      <th>Country</th>\n",
       "      <th>Google Scholar URL</th>\n",
       "      <th>Semantic Scholar URL</th>\n",
       "      <th>DBLP URL</th>\n",
       "      <th>Domain Conflicts</th>\n",
       "      <th>nr_dom_confl</th>\n",
       "    </tr>\n",
       "  </thead>\n",
       "  <tbody>\n",
       "    <tr>\n",
       "      <th>0</th>\n",
       "      <td>Tias</td>\n",
       "      <td>NaN</td>\n",
       "      <td>Guns</td>\n",
       "      <td>tias.guns@kuleuven.be</td>\n",
       "      <td>KU Leuven</td>\n",
       "      <td>Belgium</td>\n",
       "      <td>https://scholar.google.com/citations?user=hcjm...</td>\n",
       "      <td>https://www.semanticscholar.org/author/1834512</td>\n",
       "      <td>NaN</td>\n",
       "      <td>kuleuven.be;vub.be</td>\n",
       "      <td>2</td>\n",
       "    </tr>\n",
       "    <tr>\n",
       "      <th>1</th>\n",
       "      <td>Grigorios</td>\n",
       "      <td>NaN</td>\n",
       "      <td>Tsoumakas</td>\n",
       "      <td>greg@csd.auth.gr</td>\n",
       "      <td>Aristotle University of Thessaloniki</td>\n",
       "      <td>Greece</td>\n",
       "      <td>https://scholar.google.com/citations?user=PlGK...</td>\n",
       "      <td>https://www.semanticscholar.org/author/2502501</td>\n",
       "      <td>https://dblp.org/pid/38/6253</td>\n",
       "      <td>auth.gr; ibm.com</td>\n",
       "      <td>2</td>\n",
       "    </tr>\n",
       "  </tbody>\n",
       "</table>\n",
       "</div>"
      ],
      "text/plain": [
       "  # First Name  Middle Initial (optional)  Last Name                  Email  \\\n",
       "0         Tias                        NaN       Guns  tias.guns@kuleuven.be   \n",
       "1    Grigorios                        NaN  Tsoumakas       greg@csd.auth.gr   \n",
       "\n",
       "                           Organization  Country  \\\n",
       "0                             KU Leuven  Belgium   \n",
       "1  Aristotle University of Thessaloniki   Greece   \n",
       "\n",
       "                                  Google Scholar URL  \\\n",
       "0  https://scholar.google.com/citations?user=hcjm...   \n",
       "1  https://scholar.google.com/citations?user=PlGK...   \n",
       "\n",
       "                             Semantic Scholar URL  \\\n",
       "0  https://www.semanticscholar.org/author/1834512   \n",
       "1  https://www.semanticscholar.org/author/2502501   \n",
       "\n",
       "                       DBLP URL    Domain Conflicts  nr_dom_confl  \n",
       "0                           NaN  kuleuven.be;vub.be             2  \n",
       "1  https://dblp.org/pid/38/6253    auth.gr; ibm.com             2  "
      ]
     },
     "execution_count": 3,
     "metadata": {},
     "output_type": "execute_result"
    }
   ],
   "source": [
    "# Lets look at those >= 10\n",
    "df_users[df_users['nr_dom_confl'] >= 2]\n",
    "# all OK"
   ]
  },
  {
   "cell_type": "markdown",
   "id": "accredited-alert",
   "metadata": {},
   "source": [
    "### Check number of conflicts per paper"
   ]
  },
  {
   "cell_type": "code",
   "execution_count": 4,
   "id": "sacred-sarah",
   "metadata": {},
   "outputs": [],
   "source": [
    "# add PC and AC confl count\n",
    "df_papers = df_papers.merge(df_pc_confl.groupby('# Paper ID').count(), left_index=True, right_index=True).rename(columns={'Reviewer Email': 'confl_pc'})\n",
    "#df_papers = df_papers.merge(df_ac_confl.groupby('# Paper ID').count(), left_index=True, right_index=True).rename(columns={'Meta-Reviewer Email': 'confl_ac'})\n",
    "df_papers['confl_tot'] = df_papers['confl_pc']#+df_papers['confl_ac']\n",
    "#df_papers.head()"
   ]
  },
  {
   "cell_type": "code",
   "execution_count": 5,
   "id": "expensive-riding",
   "metadata": {},
   "outputs": [
    {
     "data": {
      "text/plain": [
       "<AxesSubplot:title={'center':'Papers with that many nr of ac/pc conflicts'}>"
      ]
     },
     "execution_count": 5,
     "metadata": {},
     "output_type": "execute_result"
    },
    {
     "data": {
      "image/png": "[encoded data removed]",
      "text/plain": [
       "<Figure size 432x288 with 1 Axes>"
      ]
     },
     "metadata": {
      "needs_background": "light"
     },
     "output_type": "display_data"
    }
   ],
   "source": [
    "df_papers['confl_tot'].value_counts().sort_index().plot.bar(title=\"Papers with that many nr of ac/pc conflicts\")"
   ]
  },
  {
   "cell_type": "code",
   "execution_count": 6,
   "id": "wound-championship",
   "metadata": {},
   "outputs": [
    {
     "data": {
      "text/html": [
       "<div>\n",
       "<style scoped>\n",
       "    .dataframe tbody tr th:only-of-type {\n",
       "        vertical-align: middle;\n",
       "    }\n",
       "\n",
       "    .dataframe tbody tr th {\n",
       "        vertical-align: top;\n",
       "    }\n",
       "\n",
       "    .dataframe thead th {\n",
       "        text-align: right;\n",
       "    }\n",
       "</style>\n",
       "<table border=\"1\" class=\"dataframe\">\n",
       "  <thead>\n",
       "    <tr style=\"text-align: right;\">\n",
       "      <th></th>\n",
       "      <th>Created</th>\n",
       "      <th>Last Modified</th>\n",
       "      <th>Paper Title</th>\n",
       "      <th>Abstract</th>\n",
       "      <th>Primary Contact Author Name</th>\n",
       "      <th>Primary Contact Author Email</th>\n",
       "      <th>Authors</th>\n",
       "      <th>Author Names</th>\n",
       "      <th>Author Emails</th>\n",
       "      <th>Track Name</th>\n",
       "      <th>...</th>\n",
       "      <th>SeniorMetaReviewers</th>\n",
       "      <th>SeniorMetaReviewerEmails</th>\n",
       "      <th>Q1 (Track)</th>\n",
       "      <th>Q2 (Ethical implications)</th>\n",
       "      <th>Q3 (Reproducible research, data)</th>\n",
       "      <th>Q4 (Reproducible research, code)</th>\n",
       "      <th>Q5 (Student paper)</th>\n",
       "      <th>Q6 (Submitting and reviewing)</th>\n",
       "      <th>confl_pc</th>\n",
       "      <th>confl_tot</th>\n",
       "    </tr>\n",
       "    <tr>\n",
       "      <th>Paper ID</th>\n",
       "      <th></th>\n",
       "      <th></th>\n",
       "      <th></th>\n",
       "      <th></th>\n",
       "      <th></th>\n",
       "      <th></th>\n",
       "      <th></th>\n",
       "      <th></th>\n",
       "      <th></th>\n",
       "      <th></th>\n",
       "      <th></th>\n",
       "      <th></th>\n",
       "      <th></th>\n",
       "      <th></th>\n",
       "      <th></th>\n",
       "      <th></th>\n",
       "      <th></th>\n",
       "      <th></th>\n",
       "      <th></th>\n",
       "      <th></th>\n",
       "      <th></th>\n",
       "    </tr>\n",
       "  </thead>\n",
       "  <tbody>\n",
       "    <tr>\n",
       "      <th>104</th>\n",
       "      <td>3/31/2022 4:02:51 AM -07:00</td>\n",
       "      <td>4/1/2022 8:32:02 AM -07:00</td>\n",
       "      <td>Papers are red, roses are blue</td>\n",
       "      <td>A paper on things that matter</td>\n",
       "      <td>Tira Lala</td>\n",
       "      <td>tira.lala@example.com</td>\n",
       "      <td>Tira Lala (Example dot com)*; Oh My (Example d...</td>\n",
       "      <td>Lala, Tira*; My, Oh</td>\n",
       "      <td>Tira.lala@example.com*; oh.my@example.com</td>\n",
       "      <td>My Track</td>\n",
       "      <td>...</td>\n",
       "      <td>NaN</td>\n",
       "      <td>NaN</td>\n",
       "      <td>Research track</td>\n",
       "      <td>We have considered the ethical implications an...</td>\n",
       "      <td>(part of) the data is already publicly availab...</td>\n",
       "      <td>the code of our method(s) are already publicly...</td>\n",
       "      <td>Yes (student paper)</td>\n",
       "      <td>NaN</td>\n",
       "      <td>2</td>\n",
       "      <td>2</td>\n",
       "    </tr>\n",
       "  </tbody>\n",
       "</table>\n",
       "<p>1 rows × 42 columns</p>\n",
       "</div>"
      ],
      "text/plain": [
       "                              Created               Last Modified  \\\n",
       "Paper ID                                                            \n",
       "104       3/31/2022 4:02:51 AM -07:00  4/1/2022 8:32:02 AM -07:00   \n",
       "\n",
       "                             Paper Title                       Abstract  \\\n",
       "Paper ID                                                                  \n",
       "104       Papers are red, roses are blue  A paper on things that matter   \n",
       "\n",
       "         Primary Contact Author Name Primary Contact Author Email  \\\n",
       "Paper ID                                                            \n",
       "104                        Tira Lala        tira.lala@example.com   \n",
       "\n",
       "                                                    Authors  \\\n",
       "Paper ID                                                      \n",
       "104       Tira Lala (Example dot com)*; Oh My (Example d...   \n",
       "\n",
       "                 Author Names                              Author Emails  \\\n",
       "Paper ID                                                                   \n",
       "104       Lala, Tira*; My, Oh  Tira.lala@example.com*; oh.my@example.com   \n",
       "\n",
       "         Track Name  ... SeniorMetaReviewers SeniorMetaReviewerEmails  \\\n",
       "Paper ID             ...                                                \n",
       "104        My Track  ...                 NaN                      NaN   \n",
       "\n",
       "              Q1 (Track)                          Q2 (Ethical implications)  \\\n",
       "Paper ID                                                                      \n",
       "104       Research track  We have considered the ethical implications an...   \n",
       "\n",
       "                           Q3 (Reproducible research, data)  \\\n",
       "Paper ID                                                      \n",
       "104       (part of) the data is already publicly availab...   \n",
       "\n",
       "                           Q4 (Reproducible research, code)  \\\n",
       "Paper ID                                                      \n",
       "104       the code of our method(s) are already publicly...   \n",
       "\n",
       "           Q5 (Student paper) Q6 (Submitting and reviewing) confl_pc confl_tot  \n",
       "Paper ID                                                                        \n",
       "104       Yes (student paper)                           NaN        2         2  \n",
       "\n",
       "[1 rows x 42 columns]"
      ]
     },
     "execution_count": 6,
     "metadata": {},
     "output_type": "execute_result"
    }
   ],
   "source": [
    "# Lets look at those >= 50\n",
    "df_papers[df_papers['confl_tot'] >= 2]\n",
    "# all OK"
   ]
  }
 ],
 "metadata": {
  "kernelspec": {
   "display_name": "Python 3",
   "language": "python",
   "name": "python3"
  },
  "language_info": {
   "codemirror_mode": {
    "name": "ipython",
    "version": 3
   },
   "file_extension": ".py",
   "mimetype": "text/x-python",
   "name": "python",
   "nbconvert_exporter": "python",
   "pygments_lexer": "ipython3",
   "version": "3.9.2"
  }
 },
 "nbformat": 4,
 "nbformat_minor": 5
}
